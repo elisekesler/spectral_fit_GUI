{
 "cells": [
  {
   "cell_type": "code",
   "execution_count": 9,
   "id": "19004535",
   "metadata": {},
   "outputs": [],
   "source": [
    "import csv\n",
    "import astropy\n",
    "import astropy.io.fits as fits\n",
    "import numpy as np\n",
    "import os\n",
    "import matplotlib.pyplot as plt\n",
    "from astropy.table import Table"
   ]
  },
  {
   "cell_type": "code",
   "execution_count": null,
   "id": "f8284aeb",
   "metadata": {},
   "outputs": [],
   "source": [
    "def gaussian(wave: np.ndarray, rest_wave, \n",
    "                redshift: float, sigma_kms: float, flux: float, geocoronal: bool= False, doublet: bool = False, spacing = None):\n",
    "        \"\"\"\n",
    "        Calculate Gaussian profile in flux units, handling doublets if specified\n",
    "        \n",
    "        Args:\n",
    "            wave: Wavelength array\n",
    "            rest_wave: Rest wavelength of primary line\n",
    "            redshift: Redshift\n",
    "            sigma_kms: Velocity dispersion in km/s\n",
    "            flux: Flux of primary line\n",
    "            doublet: Optional DoubletInfo for doublet lines\n",
    "        \"\"\"\n",
    "        # Convert velocity dispersion to wavelength units\n",
    "        if doublet:\n",
    "             doublet_wave = rest_wave[1]\n",
    "             rest_wave = rest_wave[0]\n",
    "\n",
    "        center = rest_wave * (1 + redshift)\n",
    "\n",
    "        # print(f'center of line:{center}')\n",
    "        if geocoronal:\n",
    "            center = rest_wave\n",
    "        sigma_wave = rest_wave * sigma_kms / 3e5\n",
    "        \n",
    "        # Primary line\n",
    "        gaussian = (flux / (sigma_wave * np.sqrt(2*np.pi))) * \\\n",
    "                np.exp(-0.5 * ((wave - center) / sigma_wave)**2)\n",
    "        \n",
    "        # Add secondary line for doublets\n",
    "        if doublet:\n",
    "            rest_wave_2 = doublet_wave\n",
    "            center_2 = rest_wave_2 * (1 + redshift)\n",
    "            sigma_wave_2 = rest_wave_2 * sigma_kms / 3e5\n",
    "            \n",
    "            flux_2 = flux * 2.95\n",
    "            gaussian_2 = (flux_2 / (sigma_wave_2 * np.sqrt(2*np.pi))) * \\\n",
    "                        np.exp(-0.5 * ((wave - center_2) / sigma_wave_2)**2)\n",
    "            gaussian += gaussian_2\n",
    "        \n",
    "        return gaussian"
   ]
  },
  {
   "cell_type": "code",
   "execution_count": 188,
   "id": "9fd49a4b",
   "metadata": {},
   "outputs": [],
   "source": [
    "def generate_UV_quasar_spectrum(redshift=None, slope = None, intercept = None, spacing = None):\n",
    "    if redshift == None:\n",
    "        redshift = np.random.uniform(0.1, 0.17)\n",
    "\n",
    "\n",
    "    if spacing == None:\n",
    "        spacing_value = np.random.uniform(0.05, 0.15)\n",
    "    else:\n",
    "        spacing_value = spacing\n",
    "    wavelength = np.arange(1100, 1900, spacing_value)\n",
    "\n",
    "    if slope == None:\n",
    "        slope = 1e-16*np.random.uniform(0, 0.5)\n",
    "        intercept = 1e-16* np.random.uniform(-1, 1)\n",
    "\n",
    "    count_per_flux = 1e17\n",
    "    flux_continuum = slope * wavelength + intercept \n",
    "\n",
    "    lya_flux =  np.random.uniform(10e-15, 100e-15)\n",
    "    NV_flux1 =  np.random.uniform(1e-15, 5e-15)\n",
    "    NV_flux2 =  np.random.uniform(1e-15, 5e-15)\n",
    "    CIV_flux = np.random.uniform(9e-15, 36e-15)\n",
    "    OVI_flux = np.random.uniform(1e-15, 20e-15)\n",
    "    geocoronal_flux = 1000e-15\n",
    "    gaussian_Lya = gaussian(wavelength, 1215.67, redshift, sigma_kms = 300, flux = lya_flux)\n",
    "    gaussian_NV = gaussian(wavelength, [1238.82, 1242.80], redshift, sigma_kms = 300, flux = NV_flux1, doublet=True)\n",
    "    gaussian_NV2 = gaussian(wavelength, [1238.82, 1242.80], redshift+0.001, sigma_kms = 100, flux = NV_flux2, doublet=True)\n",
    "    gaussian_CIV = gaussian(wavelength, [1548.19, 1550.77], redshift, sigma_kms = 300, flux = CIV_flux, doublet = True)\n",
    "    gaussian_OVI = gaussian(wavelength, [1031.92, 1037.61], redshift, sigma_kms = 300, flux = OVI_flux, doublet = True)\n",
    "    gaussian_geocoronal = gaussian(wavelength, 1215.67, redshift, sigma_kms = 300, flux = geocoronal_flux, geocoronal=True)\n",
    "\n",
    "    all_gaussians = gaussian_Lya + gaussian_NV + gaussian_NV2 + gaussian_CIV + gaussian_OVI + gaussian_geocoronal\n",
    "\n",
    "    flux_total = flux_continuum + all_gaussians\n",
    "    flux_err = 0.1 * flux_total\n",
    "    flux_err[flux_err < 0] = 0.1 * np.abs(flux_err[flux_err < 0])\n",
    "    flux_err[flux_err == 0] = 1e-15\n",
    "\n",
    "    print(f'For this spectrum, the redshift is {redshift}')\n",
    "    print(f'Spacing is {spacing_value}')\n",
    "    print(f'The slope is {slope}')\n",
    "    print(f'The intercept is {intercept}')\n",
    "    print(f'The Lya flux is {lya_flux}')\n",
    "    print(f'The NV flux is {NV_flux1+NV_flux2}')\n",
    "    print(f'The CIV flux is {CIV_flux}')\n",
    "    print(f'The OVI flux is {OVI_flux}')\n",
    "\n",
    "    counts = flux_total * count_per_flux\n",
    "    spectable = Table()\n",
    "    spectable['WAVELENGTH'] = wavelength\n",
    "    spectable['FLUX'] = flux_total\n",
    "    spectable['DQ'] = 0\n",
    "    spectable['DQ'][0] = 55\n",
    "    spectable['EXPTIME'] = 100\n",
    "    spectable['ERROR'] = flux_err\n",
    "    spectable['ERROR_LOWER'] = flux_err - flux_err * 0.01\n",
    "    spectable['GCOUNTS'] = counts\n",
    "    spectable['BACKGROUND'] = 0\n",
    "    spectable['BACKGROUND'][0] = 0\n",
    "    spectable['NET'] = 0 \n",
    "    spectable['VARIANCE_FLAT'] = 0\n",
    "\n",
    "    \n",
    "    return spectable, slope, intercept, redshift, wavelength, flux_total"
   ]
  },
  {
   "cell_type": "code",
   "execution_count": 162,
   "id": "224b54d0",
   "metadata": {},
   "outputs": [
    {
     "name": "stdout",
     "output_type": "stream",
     "text": [
      "For this spectrum, the redshift is 0.13782937297394166\n",
      "Spacing is 0.0578514828663825\n",
      "The slope is 3.5635975988878217e-17\n",
      "The intercept is 9.793265544084608e-17\n",
      "The Lya flux is 1.2296790258562682e-14\n",
      "The NV flux is 6.213753764103112e-15\n",
      "The CIV flux is 1.959515236341443e-14\n",
      "The OVI flux is 5.8471878966813764e-15\n"
     ]
    }
   ],
   "source": [
    "table1, m, b, z, wave, flux = generate_UV_quasar_spectrum()"
   ]
  },
  {
   "cell_type": "code",
   "execution_count": 163,
   "id": "05fd0762",
   "metadata": {},
   "outputs": [
    {
     "name": "stdout",
     "output_type": "stream",
     "text": [
      "For this spectrum, the redshift is 0.13782937297394166\n",
      "Spacing is 0.08922375393526702\n",
      "The slope is 3.5635975988878217e-17\n",
      "The intercept is 9.793265544084608e-17\n",
      "The Lya flux is 6.513869932373851e-14\n",
      "The NV flux is 6.6646997853939134e-15\n",
      "The CIV flux is 1.8966985883604037e-14\n",
      "The OVI flux is 1.0741107823682617e-14\n"
     ]
    }
   ],
   "source": [
    "table2, m, b, z, wave2, flux2 = generate_UV_quasar_spectrum(z, m, b)"
   ]
  },
  {
   "cell_type": "code",
   "execution_count": 164,
   "id": "b6f348ec",
   "metadata": {},
   "outputs": [
    {
     "name": "stdout",
     "output_type": "stream",
     "text": [
      "For this spectrum, the redshift is 0.13782937297394166\n",
      "Spacing is 0.100013445577415\n",
      "The slope is 3.5635975988878217e-17\n",
      "The intercept is 9.793265544084608e-17\n",
      "The Lya flux is 9.278837072703519e-14\n",
      "The NV flux is 5.8113363722361976e-15\n",
      "The CIV flux is 2.1512007439688463e-14\n",
      "The OVI flux is 9.145043829342191e-15\n"
     ]
    }
   ],
   "source": [
    "table3, m, b, z, wave3, flux3 = generate_UV_quasar_spectrum(z, m, b)"
   ]
  },
  {
   "cell_type": "code",
   "execution_count": 165,
   "id": "ecd397de",
   "metadata": {},
   "outputs": [
    {
     "name": "stdout",
     "output_type": "stream",
     "text": [
      "For this spectrum, the redshift is 0.13782937297394166\n",
      "Spacing is 0.11491044017363457\n",
      "The slope is 3.5635975988878217e-17\n",
      "The intercept is 9.793265544084608e-17\n",
      "The Lya flux is 7.452557678048183e-14\n",
      "The NV flux is 4.347445207934433e-15\n",
      "The CIV flux is 2.928670620291629e-14\n",
      "The OVI flux is 1.0902623236035946e-15\n"
     ]
    }
   ],
   "source": [
    "table4, m, b, z, wave4, flux4 = generate_UV_quasar_spectrum(z, m, b)"
   ]
  },
  {
   "cell_type": "code",
   "execution_count": 187,
   "id": "9ef814f3",
   "metadata": {},
   "outputs": [
    {
     "name": "stdout",
     "output_type": "stream",
     "text": [
      "[0.13782937297394166]\n",
      "['/Users/eliseke/Research/UV_spectral_fitting/data/simulated_specs/testspec1.fits', 'G140L']\n",
      "['/Users/eliseke/Research/UV_spectral_fitting/data/simulated_specs/testspec2.fits', 'G140L']\n",
      "['/Users/eliseke/Research/UV_spectral_fitting/data/simulated_specs/testspec3.fits', 'G140L']\n",
      "['/Users/eliseke/Research/UV_spectral_fitting/data/simulated_specs/testspec4.fits', 'G140L']\n"
     ]
    }
   ],
   "source": [
    "import csv\n",
    "\n",
    "table1.write('simulated_specs/testspec1.fits', format = 'fits', overwrite = True)\n",
    "table2.write('simulated_specs/testspec2.fits', format = 'fits', overwrite = True)\n",
    "table3.write('simulated_specs/testspec3.fits', format = 'fits', overwrite = True)\n",
    "table4.write('simulated_specs/testspec4.fits', format = 'fits', overwrite = True)\n",
    "\n",
    "\n",
    "lines = [[z],  # wrap z in a list to make it a row\n",
    "         ['/Users/eliseke/Research/UV_spectral_fitting/data/simulated_specs/testspec1.fits', 'G140L'],\n",
    "         ['/Users/eliseke/Research/UV_spectral_fitting/data/simulated_specs/testspec2.fits', 'G140L'],\n",
    "         ['/Users/eliseke/Research/UV_spectral_fitting/data/simulated_specs/testspec3.fits', 'G140L'],\n",
    "         ['/Users/eliseke/Research/UV_spectral_fitting/data/simulated_specs/testspec4.fits', 'G140L']]\n",
    "\n",
    "with open('simulated_specs/testspec1.csv', 'w', newline='') as csvfile:\n",
    "    writer = csv.writer(csvfile, delimiter=',', escapechar=' ', quoting=csv.QUOTE_NONE)\n",
    "    for line in lines:\n",
    "        print(line)\n",
    "        writer.writerow(line)  # <-- write the list directly\n",
    "\n"
   ]
  },
  {
   "cell_type": "code",
   "execution_count": 190,
   "id": "c65ddffe",
   "metadata": {},
   "outputs": [
    {
     "name": "stdout",
     "output_type": "stream",
     "text": [
      "For this spectrum, the redshift is 0.15549691921105155\n",
      "Spacing is 1.0\n",
      "The slope is 2.479634094933647e-18\n",
      "The intercept is 1.8586653144850417e-17\n",
      "The Lya flux is 2.6422825595414824e-14\n",
      "The NV flux is 6.157573421308539e-15\n",
      "The CIV flux is 3.44238417450194e-14\n",
      "The OVI flux is 7.559262061536354e-15\n"
     ]
    }
   ],
   "source": [
    "table5, m, b, z2, wave5, flux5 = generate_UV_quasar_spectrum(spacing = 1.0)"
   ]
  },
  {
   "cell_type": "code",
   "execution_count": 191,
   "id": "a16e3636",
   "metadata": {},
   "outputs": [],
   "source": [
    "table5.write('simulated_specs/precoadded_test.fits', format = 'fits', overwrite = True)"
   ]
  },
  {
   "cell_type": "code",
   "execution_count": 160,
   "id": "61ee2ca1",
   "metadata": {},
   "outputs": [],
   "source": [
    "def prepare(file):\n",
    "    \"\"\"Nicely formats file into columns. Also does bitmasking\"\"\"\n",
    "    \n",
    "    spec = Table.read(file)\n",
    "\n",
    "    spec_formatted = Table()\n",
    "\n",
    "    if spec['DQ'][0] == 55:\n",
    "        spec['DQ'][0] = 0\n",
    "        spec_formatted['wave'] = np.array(spec['WAVELENGTH'])\n",
    "        spec_formatted['flux'] = np.array(spec['FLUX'])\n",
    "        spec_formatted['flag'] = np.array(spec['DQ'])\n",
    "        spec_formatted['exp_time'] = np.array(spec['EXPTIME'])\n",
    "\n",
    "        spec_formatted['error_upper'] = np.array(spec['ERROR'])\n",
    "        spec_formatted['error_lower'] = np.array(spec['ERROR_LOWER'])\n",
    "        spec_formatted['G230L_error_up'] = np.zeros_like(spec_formatted['error_lower'])\n",
    "        spec_formatted['G230L_error_down'] = np.zeros_like(spec_formatted['error_lower'])\n",
    "        spec_formatted['gcounts'] = np.array(spec['GCOUNTS'])\n",
    "        spec_formatted['background'] = np.array(spec['BACKGROUND'])\n",
    "        spec_formatted['net'] = np.array(spec['NET'])\n",
    "        net_exp_array = np.array(spec['NET'])*spec_formatted['exp_time'] \n",
    "        bkg_exp_array = np.array(spec['BACKGROUND'])*spec_formatted['exp_time']\n",
    "        variance_flat = np.array(spec['VARIANCE_FLAT'])\n",
    "        spec_formatted['bkg_times_exp'] = np.nan_to_num(bkg_exp_array)\n",
    "        spec_formatted['net_times_exp_time'] = np.nan_to_num(net_exp_array)\n",
    "        \n",
    "        flags = spec_formatted['flag']\n",
    "        mask = np.where((flags == 0) | (flags == 4))\n",
    "        masked_spec = spec_formatted[(mask)]\n",
    "    else:\n",
    "\n",
    "        spec_formatted['wave'] = np.array(spec['WAVELENGTH'][0])\n",
    "        spec_formatted['flux'] = np.array(spec['FLUX'][0])\n",
    "        spec_formatted['flag'] = np.array(spec['DQ'][0])\n",
    "        \n",
    "        if (spec['EXPTIME'].shape != (1,)):\n",
    "            spec_formatted['exp_time'] = np.array(np.max(spec['EXPTIME']))\n",
    "            \n",
    "        else: \n",
    "            spec_formatted['exp_time'] = np.array(spec['EXPTIME'])\n",
    "        \n",
    "        spec_formatted['error_upper'] = np.array(spec['ERROR'][0])\n",
    "        spec_formatted['error_lower'] = np.array(spec['ERROR_LOWER'][0])\n",
    "        spec_formatted['G230L_error_up'] = np.zeros_like(spec_formatted['error_lower'])\n",
    "        spec_formatted['G230L_error_down'] = np.zeros_like(spec_formatted['error_lower'])\n",
    "        spec_formatted['gcounts'] = np.array(spec['GCOUNTS'][0])\n",
    "        spec_formatted['background'] = np.array(spec['BACKGROUND'][0])\n",
    "        spec_formatted['net'] = np.array(spec['NET'][0])\n",
    "        net_exp_array = np.array(spec['NET'][0])*spec_formatted['exp_time'][0] \n",
    "        bkg_exp_array = np.array(spec['BACKGROUND'][0])*spec_formatted['exp_time'][0] \n",
    "        variance_flat = np.array(spec['VARIANCE_FLAT'][0])\n",
    "\n",
    "        spec_formatted['bkg_times_exp'] = np.nan_to_num(bkg_exp_array)\n",
    "        spec_formatted['net_times_exp_time'] = np.nan_to_num(net_exp_array)\n",
    "        \n",
    "        flags = spec_formatted['flag']\n",
    "        mask = np.where((flags == 0) | (flags == 4))\n",
    "        masked_spec = spec_formatted[(mask)]\n",
    "    \n",
    "    return masked_spec \n",
    "    "
   ]
  },
  {
   "cell_type": "code",
   "execution_count": 141,
   "id": "3fab4459",
   "metadata": {},
   "outputs": [
    {
     "data": {
      "text/html": [
       "<div><i>Table length=8469</i>\n",
       "<table id=\"table4811250464\" class=\"table-striped table-bordered table-condensed\">\n",
       "<thead><tr><th>wave</th><th>flux</th><th>flag</th><th>exp_time</th><th>error_upper</th><th>error_lower</th><th>G230L_error_up</th><th>G230L_error_down</th><th>gcounts</th><th>background</th><th>net</th><th>bkg_times_exp</th><th>net_times_exp_time</th></tr></thead>\n",
       "<thead><tr><th>float64</th><th>float64</th><th>int64</th><th>int64</th><th>float64</th><th>float64</th><th>float64</th><th>float64</th><th>float64</th><th>int64</th><th>int64</th><th>int64</th><th>int64</th></tr></thead>\n",
       "<tr><td>1100.0</td><td>4.528865587935942e-14</td><td>0</td><td>100</td><td>4.528865587935942e-15</td><td>4.4835769320565824e-15</td><td>0.0</td><td>0.0</td><td>4.5288655879359415e-30</td><td>0</td><td>0</td><td>0</td><td>0</td></tr>\n",
       "<tr><td>1100.0944707346239</td><td>4.5292544634735816e-14</td><td>0</td><td>100</td><td>4.529254463473582e-15</td><td>4.483961918838846e-15</td><td>0.0</td><td>0.0</td><td>4.529254463473581e-30</td><td>0</td><td>0</td><td>0</td><td>0</td></tr>\n",
       "<tr><td>1100.1889414692478</td><td>4.5296433390112214e-14</td><td>0</td><td>100</td><td>4.5296433390112214e-15</td><td>4.484346905621109e-15</td><td>0.0</td><td>0.0</td><td>4.5296433390112216e-30</td><td>0</td><td>0</td><td>0</td><td>0</td></tr>\n",
       "<tr><td>1100.2834122038716</td><td>4.530032214548861e-14</td><td>0</td><td>100</td><td>4.530032214548862e-15</td><td>4.484731892403373e-15</td><td>0.0</td><td>0.0</td><td>4.530032214548861e-30</td><td>0</td><td>0</td><td>0</td><td>0</td></tr>\n",
       "<tr><td>1100.3778829384955</td><td>4.530421090086501e-14</td><td>0</td><td>100</td><td>4.5304210900865015e-15</td><td>4.485116879185636e-15</td><td>0.0</td><td>0.0</td><td>4.530421090086501e-30</td><td>0</td><td>0</td><td>0</td><td>0</td></tr>\n",
       "<tr><td>1100.4723536731194</td><td>4.530809965624141e-14</td><td>0</td><td>100</td><td>4.530809965624141e-15</td><td>4.4855018659679e-15</td><td>0.0</td><td>0.0</td><td>4.5308099656241405e-30</td><td>0</td><td>0</td><td>0</td><td>0</td></tr>\n",
       "<tr><td>1100.5668244077433</td><td>4.531198841161781e-14</td><td>0</td><td>100</td><td>4.531198841161781e-15</td><td>4.485886852750163e-15</td><td>0.0</td><td>0.0</td><td>4.531198841161781e-30</td><td>0</td><td>0</td><td>0</td><td>0</td></tr>\n",
       "<tr><td>1100.6612951423672</td><td>4.5315877166994205e-14</td><td>0</td><td>100</td><td>4.5315877166994205e-15</td><td>4.486271839532426e-15</td><td>0.0</td><td>0.0</td><td>4.5315877166994206e-30</td><td>0</td><td>0</td><td>0</td><td>0</td></tr>\n",
       "<tr><td>1100.755765876991</td><td>4.53197659223706e-14</td><td>0</td><td>100</td><td>4.53197659223706e-15</td><td>4.4866568263146896e-15</td><td>0.0</td><td>0.0</td><td>4.5319765922370595e-30</td><td>0</td><td>0</td><td>0</td><td>0</td></tr>\n",
       "<tr><td>...</td><td>...</td><td>...</td><td>...</td><td>...</td><td>...</td><td>...</td><td>...</td><td>...</td><td>...</td><td>...</td><td>...</td><td>...</td></tr>\n",
       "<tr><td>1899.1279441834254</td><td>7.818363760830545e-14</td><td>0</td><td>100</td><td>5e-15</td><td>4.95e-15</td><td>0.0</td><td>0.0</td><td>7.818363760830545e-30</td><td>0</td><td>0</td><td>0</td><td>0</td></tr>\n",
       "<tr><td>1899.2224149180493</td><td>7.818752636368184e-14</td><td>0</td><td>100</td><td>5e-15</td><td>4.95e-15</td><td>0.0</td><td>0.0</td><td>7.818752636368183e-30</td><td>0</td><td>0</td><td>0</td><td>0</td></tr>\n",
       "<tr><td>1899.3168856526731</td><td>7.819141511905824e-14</td><td>0</td><td>100</td><td>5e-15</td><td>4.95e-15</td><td>0.0</td><td>0.0</td><td>7.819141511905824e-30</td><td>0</td><td>0</td><td>0</td><td>0</td></tr>\n",
       "<tr><td>1899.411356387297</td><td>7.819530387443463e-14</td><td>0</td><td>100</td><td>5e-15</td><td>4.95e-15</td><td>0.0</td><td>0.0</td><td>7.819530387443464e-30</td><td>0</td><td>0</td><td>0</td><td>0</td></tr>\n",
       "<tr><td>1899.505827121921</td><td>7.819919262981104e-14</td><td>0</td><td>100</td><td>5e-15</td><td>4.95e-15</td><td>0.0</td><td>0.0</td><td>7.819919262981103e-30</td><td>0</td><td>0</td><td>0</td><td>0</td></tr>\n",
       "<tr><td>1899.6002978565448</td><td>7.820308138518743e-14</td><td>0</td><td>100</td><td>5e-15</td><td>4.95e-15</td><td>0.0</td><td>0.0</td><td>7.820308138518743e-30</td><td>0</td><td>0</td><td>0</td><td>0</td></tr>\n",
       "<tr><td>1899.6947685911687</td><td>7.820697014056384e-14</td><td>0</td><td>100</td><td>5e-15</td><td>4.95e-15</td><td>0.0</td><td>0.0</td><td>7.820697014056384e-30</td><td>0</td><td>0</td><td>0</td><td>0</td></tr>\n",
       "<tr><td>1899.7892393257926</td><td>7.821085889594023e-14</td><td>0</td><td>100</td><td>5e-15</td><td>4.95e-15</td><td>0.0</td><td>0.0</td><td>7.821085889594022e-30</td><td>0</td><td>0</td><td>0</td><td>0</td></tr>\n",
       "<tr><td>1899.8837100604164</td><td>7.821474765131662e-14</td><td>0</td><td>100</td><td>5e-15</td><td>4.95e-15</td><td>0.0</td><td>0.0</td><td>7.821474765131662e-30</td><td>0</td><td>0</td><td>0</td><td>0</td></tr>\n",
       "<tr><td>1899.9781807950403</td><td>7.821863640669302e-14</td><td>0</td><td>100</td><td>5e-15</td><td>4.95e-15</td><td>0.0</td><td>0.0</td><td>7.821863640669302e-30</td><td>0</td><td>0</td><td>0</td><td>0</td></tr>\n",
       "</table></div>"
      ],
      "text/plain": [
       "<Table length=8469>\n",
       "       wave                 flux          ... bkg_times_exp net_times_exp_time\n",
       "     float64              float64         ...     int64           int64       \n",
       "------------------ ---------------------- ... ------------- ------------------\n",
       "            1100.0  4.528865587935942e-14 ...             0                  0\n",
       "1100.0944707346239 4.5292544634735816e-14 ...             0                  0\n",
       "1100.1889414692478 4.5296433390112214e-14 ...             0                  0\n",
       "1100.2834122038716  4.530032214548861e-14 ...             0                  0\n",
       "1100.3778829384955  4.530421090086501e-14 ...             0                  0\n",
       "1100.4723536731194  4.530809965624141e-14 ...             0                  0\n",
       "1100.5668244077433  4.531198841161781e-14 ...             0                  0\n",
       "1100.6612951423672 4.5315877166994205e-14 ...             0                  0\n",
       " 1100.755765876991   4.53197659223706e-14 ...             0                  0\n",
       "               ...                    ... ...           ...                ...\n",
       "1899.1279441834254  7.818363760830545e-14 ...             0                  0\n",
       "1899.2224149180493  7.818752636368184e-14 ...             0                  0\n",
       "1899.3168856526731  7.819141511905824e-14 ...             0                  0\n",
       " 1899.411356387297  7.819530387443463e-14 ...             0                  0\n",
       " 1899.505827121921  7.819919262981104e-14 ...             0                  0\n",
       "1899.6002978565448  7.820308138518743e-14 ...             0                  0\n",
       "1899.6947685911687  7.820697014056384e-14 ...             0                  0\n",
       "1899.7892393257926  7.821085889594023e-14 ...             0                  0\n",
       "1899.8837100604164  7.821474765131662e-14 ...             0                  0\n",
       "1899.9781807950403  7.821863640669302e-14 ...             0                  0"
      ]
     },
     "execution_count": 141,
     "metadata": {},
     "output_type": "execute_result"
    }
   ],
   "source": [
    "prepare('/Users/eliseke/Research/UV_spectral_fitting/data/simulated_specs/testspec1.fits')"
   ]
  },
  {
   "cell_type": "code",
   "execution_count": 68,
   "id": "9656f407",
   "metadata": {},
   "outputs": [
    {
     "data": {
      "text/plain": [
       "[<matplotlib.lines.Line2D at 0x11df06630>]"
      ]
     },
     "execution_count": 68,
     "metadata": {},
     "output_type": "execute_result"
    },
    {
     "data": {
      "image/png": "[encoded data removed]",
      "text/plain": [
       "<Figure size 1000x500 with 1 Axes>"
      ]
     },
     "metadata": {},
     "output_type": "display_data"
    }
   ],
   "source": [
    "fig, ax = plt.subplots(figsize=(10, 5))\n",
    "ax.plot(wave, flux, color = 'black')\n",
    "ax.plot(wave2, flux2)\n",
    "ax.plot(wave3, flux3)\n",
    "ax.plot(wave4, flux4)"
   ]
  },
  {
   "cell_type": "code",
   "execution_count": 5,
   "id": "ea078ae1",
   "metadata": {},
   "outputs": [
    {
     "name": "stdout",
     "output_type": "stream",
     "text": [
      "0.1482 ['/Users/eliseke/Research/UV_spectral_fitting/data/MAST_2025-04-18T18_03_56.559Z/MAST_2025-04-18T18_03_56.559Z/HST/le3i04j9q_x1d.fits', '/Users/eliseke/Research/UV_spectral_fitting/data/MAST_2025-04-18T18_03_56.559Z/MAST_2025-04-18T18_03_56.559Z/HST/le3i04jbq_x1d.fits', '/Users/eliseke/Research/UV_spectral_fitting/data/MAST_2025-04-18T18_03_56.559Z/MAST_2025-04-18T18_03_56.559Z/HST/le3i04jdq_x1d.fits', '/Users/eliseke/Research/UV_spectral_fitting/data/MAST_2025-04-18T18_03_56.559Z/MAST_2025-04-18T18_03_56.559Z/HST/le3i04jfq_x1d.fits', '/Users/eliseke/Research/UV_spectral_fitting/data/MAST_2025-04-18T18_03_56.559Z/MAST_2025-04-18T18_03_56.559Z/HST/le3i04jiq_x1d.fits', '/Users/eliseke/Research/UV_spectral_fitting/data/MAST_2025-04-18T18_03_56.559Z/MAST_2025-04-18T18_03_56.559Z/HST/le3i04jkq_x1d.fits', '/Users/eliseke/Research/UV_spectral_fitting/data/MAST_2025-04-18T18_03_56.559Z/MAST_2025-04-18T18_03_56.559Z/HST/le3i04jmq_x1d.fits', '/Users/eliseke/Research/UV_spectral_fitting/data/MAST_2025-04-18T18_03_56.559Z/MAST_2025-04-18T18_03_56.559Z/HST/le3i04joq_x1d.fits']\n"
     ]
    }
   ],
   "source": [
    "lines = open('J1000_offnuc_G140L.csv', 'r')\n",
    "specs = []\n",
    "for i, line in enumerate(lines):\n",
    "    if i == 0:\n",
    "        redshift = float(line)\n",
    "    else:\n",
    "        specs.append(line.split(',')[0])\n",
    "\n",
    "print(redshift,specs)"
   ]
  },
  {
   "cell_type": "code",
   "execution_count": null,
   "id": "e7632bf2",
   "metadata": {},
   "outputs": [],
   "source": []
  },
  {
   "cell_type": "code",
   "execution_count": 24,
   "id": "9da650f5",
   "metadata": {},
   "outputs": [],
   "source": [
    "fits.reader = fits.open(specs[0])"
   ]
  },
  {
   "cell_type": "code",
   "execution_count": 26,
   "id": "3836a37c",
   "metadata": {},
   "outputs": [
    {
     "name": "stdout",
     "output_type": "stream",
     "text": [
      "BINTABLE\n"
     ]
    }
   ],
   "source": [
    "print(fits.reader[1].header[0])"
   ]
  },
  {
   "cell_type": "code",
   "execution_count": 11,
   "id": "79f106c9",
   "metadata": {},
   "outputs": [
    {
     "name": "stderr",
     "output_type": "stream",
     "text": [
      "WARNING: UnitsWarning: 'erg /s /cm**2 /angstrom' contains multiple slashes, which is discouraged by the FITS standard [astropy.units.format.generic]\n",
      "WARNING: UnitsWarning: 'erg /s /cm**2 /angstrom' contains multiple slashes, which is discouraged by the FITS standard [astropy.units.format.generic]\n",
      "WARNING: UnitsWarning: 'erg /s /cm**2 /angstrom' contains multiple slashes, which is discouraged by the FITS standard [astropy.units.format.generic]\n",
      "WARNING: UnitsWarning: 'count /s /pixel' contains multiple slashes, which is discouraged by the FITS standard [astropy.units.format.generic]\n",
      "WARNING: UnitsWarning: 'erg /s /cm**2 /angstrom' contains multiple slashes, which is discouraged by the FITS standard [astropy.units.format.generic]\n",
      "WARNING: UnitsWarning: 'erg /s /cm**2 /angstrom' contains multiple slashes, which is discouraged by the FITS standard [astropy.units.format.generic]\n",
      "WARNING: UnitsWarning: 'erg /s /cm**2 /angstrom' contains multiple slashes, which is discouraged by the FITS standard [astropy.units.format.generic]\n",
      "WARNING: UnitsWarning: 'count /s /pixel' contains multiple slashes, which is discouraged by the FITS standard [astropy.units.format.generic]\n",
      "WARNING: UnitsWarning: 'erg /s /cm**2 /angstrom' contains multiple slashes, which is discouraged by the FITS standard [astropy.units.format.generic]\n",
      "WARNING: UnitsWarning: 'erg /s /cm**2 /angstrom' contains multiple slashes, which is discouraged by the FITS standard [astropy.units.format.generic]\n",
      "WARNING: UnitsWarning: 'erg /s /cm**2 /angstrom' contains multiple slashes, which is discouraged by the FITS standard [astropy.units.format.generic]\n",
      "WARNING: UnitsWarning: 'count /s /pixel' contains multiple slashes, which is discouraged by the FITS standard [astropy.units.format.generic]\n"
     ]
    }
   ],
   "source": [
    "table1 = Table.read(specs[0], format='fits' )\n",
    "table2 = Table.read(specs[1], format = 'fits')\n",
    "table3 = Table.read(specs[2], format = 'fits')"
   ]
  },
  {
   "cell_type": "code",
   "execution_count": 20,
   "id": "a2de1c41",
   "metadata": {},
   "outputs": [],
   "source": [
    "wave1 = table1['WAVELENGTH'][0]\n",
    "wave2 = table2['WAVELENGTH'][0]\n",
    "wave3 = table3['WAVELENGTH'][0]\n"
   ]
  },
  {
   "cell_type": "code",
   "execution_count": 22,
   "id": "3a7e4f7e",
   "metadata": {},
   "outputs": [
    {
     "name": "stdout",
     "output_type": "stream",
     "text": [
      "0.07942707245524616 0.07942713512579758\n",
      "[1027.50499479 1027.58442187 1027.663849   1027.7432762  1027.82270346\n",
      " 1027.90213078 1027.98155817 1028.06098562 1028.14041313 1028.2198407 ]\n",
      "[1027.50473356 1027.58416063 1027.66358777 1027.74301497 1027.82244223\n",
      " 1027.90186955 1027.98129693 1028.06072438 1028.14015189 1028.21957947]\n"
     ]
    }
   ],
   "source": [
    "print(wave1[1] - wave1[0], wave1[2]-wave1[1])\n",
    "print(wave2[0:10])\n",
    "print(wave3[0:10])"
   ]
  },
  {
   "cell_type": "code",
   "execution_count": null,
   "id": "9b475ca6",
   "metadata": {},
   "outputs": [],
   "source": []
  }
 ],
 "metadata": {
  "kernelspec": {
   "display_name": "uv_spectra",
   "language": "python",
   "name": "python3"
  },
  "language_info": {
   "codemirror_mode": {
    "name": "ipython",
    "version": 3
   },
   "file_extension": ".py",
   "mimetype": "text/x-python",
   "name": "python",
   "nbconvert_exporter": "python",
   "pygments_lexer": "ipython3",
   "version": "3.12.8"
  }
 },
 "nbformat": 4,
 "nbformat_minor": 5
}
