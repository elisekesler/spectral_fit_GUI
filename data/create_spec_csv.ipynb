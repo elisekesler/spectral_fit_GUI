{
 "cells": [
  {
   "cell_type": "code",
   "execution_count": 1,
   "id": "149670c4",
   "metadata": {},
   "outputs": [],
   "source": [
    "import os\n",
    "import csv\n",
    "import glob\n",
    "\n",
    "def create_spectral_csv(directory_path, output_csv_path, redshift):\n",
    "    \"\"\"\n",
    "    Create a CSV file listing all _x1d.fits files in a directory with G140L grating.\n",
    "    \n",
    "    Parameters:\n",
    "    -----------\n",
    "    directory_path : str\n",
    "        Path to the directory containing the spectral files\n",
    "    output_csv_path : str\n",
    "        Path where the CSV file should be saved\n",
    "    redshift : float\n",
    "        Redshift value to include in the first line of the CSV\n",
    "    \n",
    "    Returns:\n",
    "    --------\n",
    "    int\n",
    "        Number of files found and added to the CSV\n",
    "    \"\"\"\n",
    "    # Find all files ending with _x1d.fits\n",
    "    search_pattern = os.path.join(directory_path, \"**/*_x1d.fits\")\n",
    "    spectral_files = glob.glob(search_pattern, recursive=True)\n",
    "    \n",
    "    # Sort files\n",
    "    spectral_files.sort()\n",
    "    \n",
    "    # Write to CSV\n",
    "    with open(output_csv_path, 'w', newline='') as csvfile:\n",
    "        writer = csv.writer(csvfile)\n",
    "        \n",
    "        # First row is redshift\n",
    "        writer.writerow([str(redshift)])\n",
    "        \n",
    "        # Subsequent rows are file path and grating type\n",
    "        for file_path in spectral_files:\n",
    "            # Use absolute path for better compatibility with other tools\n",
    "            abs_path = os.path.abspath(file_path)\n",
    "            writer.writerow([abs_path, \"G140L\"])\n",
    "    \n",
    "    return len(spectral_files)\n",
    "\n",
    "# Example usage (uncomment and modify these lines in your notebook):\n",
    "# directory = \"/path/to/your/data/folder\"\n",
    "# output_csv = \"/path/to/save/object_spectra.csv\"\n",
    "# z = 0.158  # Redshift of your object\n",
    "# num_files = create_spectral_csv(directory, output_csv, z)\n",
    "# print(f\"Found and added {num_files} spectral files to {output_csv}\")"
   ]
  },
  {
   "cell_type": "code",
   "execution_count": 2,
   "id": "d563bb74",
   "metadata": {},
   "outputs": [
    {
     "data": {
      "text/plain": [
       "8"
      ]
     },
     "execution_count": 2,
     "metadata": {},
     "output_type": "execute_result"
    }
   ],
   "source": [
    "j1000_file_loc = '/Users/eliseke/Research/UV_spectral_fitting/data/MAST_2025-04-18T18_03_56.559Z/MAST_2025-04-18T18_03_56.559Z'\n",
    "j1000_csv_name = '/Users/eliseke/Research/UV_spectral_fitting/data/target_files_tocoadd/J1000_spectral_files.csv'\n",
    "j1000_redshift = 0.148\n",
    "\n",
    "create_spectral_csv(j1000_file_loc, j1000_csv_name, j1000_redshift)"
   ]
  },
  {
   "cell_type": "code",
   "execution_count": 3,
   "id": "23ae9d39",
   "metadata": {},
   "outputs": [
    {
     "data": {
      "text/plain": [
       "4"
      ]
     },
     "execution_count": 3,
     "metadata": {},
     "output_type": "execute_result"
    }
   ],
   "source": [
    "j1356_file_loc = '/Users/eliseke/Research/UV_spectral_fitting/data/MAST_2025-05-09T15_35_45.695Z/MAST_2025-05-09T15_35_45.695Z'\n",
    "j1356_csv_name = '/Users/eliseke/Research/UV_spectral_fitting/data/target_files_tocoadd/J1356_spectral_files.csv'\n",
    "j1356_redshift = 0.12313\n",
    "create_spectral_csv(j1356_file_loc, j1356_csv_name, j1356_redshift)"
   ]
  },
  {
   "cell_type": "code",
   "execution_count": null,
   "id": "52a75087",
   "metadata": {},
   "outputs": [],
   "source": [
    "j1356_file_loc = '/Users/eliseke/Research/UV_spectral_fitting/data/MAST_2025-05-09T15_35_45.695Z/MAST_2025-05-09T15_35_45.695Z'\n",
    "j1356_csv_name = '/Users/eliseke/Research/UV_spectral_fitting/data/target_files_tocoadd/J1356_spectral_files.csv'\n",
    "j1356_redshift = 0.12313\n",
    "create_spectral_csv(j1356_file_loc, j1356_csv_name, j1356_redshift)"
   ]
  },
  {
   "cell_type": "code",
   "execution_count": 4,
   "id": "d31f81bf",
   "metadata": {},
   "outputs": [
    {
     "data": {
      "text/plain": [
       "8"
      ]
     },
     "execution_count": 4,
     "metadata": {},
     "output_type": "execute_result"
    }
   ],
   "source": [
    "j0841_file_loc = '/Users/eliseke/Research/UV_spectral_fitting/data/MAST_2025-05-09T15_38_39.857Z/MAST_2025-05-09T15_38_39.857Z'\n",
    "j0841_csv_name = '/Users/eliseke/Research/UV_spectral_fitting/data/target_files_tocoadd/J0841_spectral_files.csv'\n",
    "j0841_redshift = 0.1106\n",
    "create_spectral_csv(j0841_file_loc, j0841_csv_name, j0841_redshift)"
   ]
  },
  {
   "cell_type": "code",
   "execution_count": 5,
   "id": "cccdfd68",
   "metadata": {},
   "outputs": [
    {
     "data": {
      "text/plain": [
       "8"
      ]
     },
     "execution_count": 5,
     "metadata": {},
     "output_type": "execute_result"
    }
   ],
   "source": [
    "j1222_file_loc = '/Users/eliseke/Research/UV_spectral_fitting/data/MAST_2025-05-09T15_42_04.796Z/MAST_2025-05-09T15_42_04.796Z'\n",
    "j1222_csv_name = '/Users/eliseke/Research/UV_spectral_fitting/data/target_files_tocoadd/J1222_spectral_files.csv'\n",
    "j1222_redshift = 0.1729\n",
    "create_spectral_csv(j1222_file_loc, j1222_csv_name, j1222_redshift)"
   ]
  },
  {
   "cell_type": "code",
   "execution_count": 6,
   "id": "91f3f388",
   "metadata": {},
   "outputs": [
    {
     "data": {
      "text/plain": [
       "16"
      ]
     },
     "execution_count": 6,
     "metadata": {},
     "output_type": "execute_result"
    }
   ],
   "source": [
    "j1255_file_loc = '/Users/eliseke/Research/UV_spectral_fitting/data/MAST_2025-05-09T15_44_42.564Z/MAST_2025-05-09T15_44_42.564Z'\n",
    "j1255_csv_name = '/Users/eliseke/Research/UV_spectral_fitting/data/target_files_tocoadd/J1255_spectral_files.csv'\n",
    "j1255_redshift = 0.16875\n",
    "create_spectral_csv(j1255_file_loc, j1255_csv_name, j1255_redshift)"
   ]
  },
  {
   "cell_type": "code",
   "execution_count": null,
   "id": "c258c942",
   "metadata": {},
   "outputs": [],
   "source": []
  }
 ],
 "metadata": {
  "kernelspec": {
   "display_name": "uv_spectra",
   "language": "python",
   "name": "python3"
  },
  "language_info": {
   "codemirror_mode": {
    "name": "ipython",
    "version": 3
   },
   "file_extension": ".py",
   "mimetype": "text/x-python",
   "name": "python",
   "nbconvert_exporter": "python",
   "pygments_lexer": "ipython3",
   "version": "3.12.8"
  }
 },
 "nbformat": 4,
 "nbformat_minor": 5
}
